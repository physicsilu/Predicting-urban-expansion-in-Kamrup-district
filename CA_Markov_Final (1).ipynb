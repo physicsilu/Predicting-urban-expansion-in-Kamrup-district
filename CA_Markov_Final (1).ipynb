{
  "nbformat": 4,
  "nbformat_minor": 0,
  "metadata": {
    "colab": {
      "provenance": [],
      "gpuType": "T4"
    },
    "kernelspec": {
      "name": "python3",
      "display_name": "Python 3"
    },
    "language_info": {
      "name": "python"
    },
    "accelerator": "GPU"
  },
  "cells": [
    {
      "cell_type": "code",
      "execution_count": null,
      "metadata": {
        "id": "hNZ-la0jTCnO"
      },
      "outputs": [],
      "source": [
        "import numpy as np\n",
        "import scipy.signal as signal\n",
        "from sklearn.model_selection import train_test_split\n",
        "from sklearn.metrics import accuracy_score"
      ]
    },
    {
      "cell_type": "markdown",
      "source": [
        "**Defining the AHP function**"
      ],
      "metadata": {
        "id": "KPIJ1A9WTWJn"
      }
    },
    {
      "cell_type": "code",
      "source": [
        "import numpy as np\n",
        "\n",
        "def calculate_ahp_weights(criteria_matrix):\n",
        "    num_criteria = criteria_matrix.shape[0]\n",
        "    eigvals, eigenvectors = np.linalg.eig(criteria_matrix)\n",
        "\n",
        "    # Find the index of the maximum eigenvalue\n",
        "    max_eigenvalue_index = np.argmax(eigvals)\n",
        "\n",
        "    # Get the corresponding eigenvector\n",
        "    max_eigenvalue_vector = eigenvectors[:, max_eigenvalue_index]\n",
        "\n",
        "    # Normalize the eigenvector\n",
        "    sum_eigenvector = np.sum(max_eigenvalue_vector)\n",
        "\n",
        "    if sum_eigenvector != 0:\n",
        "        normalized_eigenvector = max_eigenvalue_vector / sum_eigenvector\n",
        "    else:\n",
        "        normalized_eigenvector = max_eigenvalue_vector\n",
        "\n",
        "    return normalized_eigenvector"
      ],
      "metadata": {
        "id": "7YsDIuVqTj6q"
      },
      "execution_count": null,
      "outputs": []
    },
    {
      "cell_type": "markdown",
      "source": [
        "**Define the Markov Function**"
      ],
      "metadata": {
        "id": "5VzF7TgEVRBp"
      }
    },
    {
      "cell_type": "code",
      "source": [
        "def ca_markov_model(prev_state, parameters, weights):\n",
        "    kernel = np.array([[1, 1, 1], [1, 0, 1], [1, 1, 1]])  # Define the kernel for convolution\n",
        "    next_state = signal.convolve2d(prev_state, kernel, mode='same', boundary='wrap')  # Apply convolution\n",
        "    urban_expansion=parameters[0]*weights[0]+parameters[1]*weights[1]+parameters[2]*weights[2]+parameters[3]*weights[3]+parameters[4]*weights[4]+parameters[5]*weights[5]\n",
        "    # Add urban expansion to the next state\n",
        "    next_state += ((urban_expansion))\n",
        "    # Perform thresholding to determine urban areas\n",
        "    threshold = 0.95  # Define the threshold value\n",
        "    next_state[next_state >= threshold] = 1\n",
        "    next_state[next_state < threshold] = 0\n",
        "\n",
        "    return next_state"
      ],
      "metadata": {
        "id": "-O-La8zWVWqc"
      },
      "execution_count": null,
      "outputs": []
    },
    {
      "cell_type": "markdown",
      "source": [
        "**Load and Preprocess data**"
      ],
      "metadata": {
        "id": "GgxeiHn2VvXM"
      }
    },
    {
      "cell_type": "code",
      "source": [
        "from PIL import Image\n",
        "\n",
        "builtup_2005 = Image.open('/content/drive/MyDrive/PS-1 Urban/All new files/New Builtup/05_06_builtup.tif')\n",
        "builtup_2011 = Image.open('/content/drive/MyDrive/PS-1 Urban/All new files/New Builtup/11_12_builtup_some.tif')\n",
        "builtup_2015 = Image.open('/content/drive/MyDrive/PS-1 Urban/All new files/New Builtup/15_16_builtup.tif')\n",
        "builtup_2020 = Image.open('/content/drive/MyDrive/PS-1 Urban/All new files/New Builtup/20_21_builtup.tif')\n",
        "\n",
        "target_size =(2719,1283)\n",
        "builtup_2020=builtup_2020.resize(target_size)\n",
        "\n",
        "parameters_2023_paths= ['/content/drive/MyDrive/PS-1 Urban/All new files/Accessibilty.tif','/content/drive/MyDrive/PS-1 Urban/All new files/Pop_den.tif','/content/drive/MyDrive/PS-1 Urban/All new files/Inverted_Elevation.tif','/content/drive/MyDrive/PS-1 Urban/All new files/Inverted_Floods.tif','/content/drive/MyDrive/PS-1 Urban/All new files/Inverted_Slope.tif','/content/drive/MyDrive/PS-1 Urban/All new files/Friction.tif']\n",
        "parameters_2023=[]\n",
        "for path in parameters_2023_paths:\n",
        "  image= Image.open(path)\n",
        "  image= image.resize(target_size)\n",
        "  parameters_2023.append(image)"
      ],
      "metadata": {
        "id": "FiBV8RiqVtWb"
      },
      "execution_count": null,
      "outputs": []
    },
    {
      "cell_type": "code",
      "source": [
        "# Converting data into numpy arrays\n",
        "builtup_2005_array= np.array(builtup_2005)\n",
        "builtup_2011_array= np.array(builtup_2011)\n",
        "builtup_2015_array= np.array(builtup_2015)\n",
        "builtup_2020_array= np.array(builtup_2020)\n",
        "\n",
        "parameters_2023_array=[]\n",
        "for image in parameters_2023:\n",
        "  array=np.array(image)\n",
        "  parameters_2023_array.append(array)"
      ],
      "metadata": {
        "id": "hj_oOcAtWH3w"
      },
      "execution_count": null,
      "outputs": []
    },
    {
      "cell_type": "code",
      "source": [
        "print(builtup_2005_array.shape)\n",
        "print(builtup_2011_array.shape)\n",
        "print(builtup_2015_array.shape)\n",
        "print(builtup_2020_array.shape)\n",
        "\n",
        "for i in [0,1,2,3,4,5]:\n",
        "  print(parameters_2023_array[i].shape)"
      ],
      "metadata": {
        "colab": {
          "base_uri": "https://localhost:8080/"
        },
        "id": "puNQyUVhWL5_",
        "outputId": "ad94a48c-11d6-465f-f10c-be3e48bd841e"
      },
      "execution_count": null,
      "outputs": [
        {
          "output_type": "stream",
          "name": "stdout",
          "text": [
            "(1283, 2719)\n",
            "(1283, 2719)\n",
            "(1283, 2719)\n",
            "(1283, 2719)\n",
            "(1283, 2719)\n",
            "(1283, 2719)\n",
            "(1283, 2719)\n",
            "(1283, 2719)\n",
            "(1283, 2719)\n",
            "(1283, 2719)\n"
          ]
        }
      ]
    },
    {
      "cell_type": "code",
      "source": [
        "import numpy as np\n",
        "from skimage.util import img_as_float\n",
        "\n",
        "_2005_float=img_as_float(builtup_2005_array)\n",
        "_2011_float=img_as_float(builtup_2011_array)\n",
        "_2015_float=img_as_float(builtup_2015_array)\n",
        "_2020_float=img_as_float(builtup_2020_array)\n",
        "\n",
        "parameters_2023_float=[]\n",
        "for i in [0,1,2,3,4,5]:\n",
        "  parameters_2023_float.append(img_as_float(parameters_2023_array[i]))\n",
        "\n",
        "nan_mask_2005=np.isnan(_2005_float)\n",
        "nan_mask_2011=np.isnan(_2011_float)\n",
        "nan_mask_2015=np.isnan(_2015_float)\n",
        "nan_mask_2020=np.isnan(_2020_float)\n",
        "\n",
        "nan_mask_parameters=[]\n",
        "for i in [0,1,2,3,4,5]:\n",
        "  nan_mask_parameters.append(np.isnan(parameters_2023_float[i]))\n",
        "\n",
        "_2005_without_nan=np.where(nan_mask_2005, -100, _2005_float)\n",
        "_2011_without_nan=np.where(nan_mask_2011, -100, _2011_float)\n",
        "_2015_without_nan=np.where(nan_mask_2015, -100, _2015_float)\n",
        "_2020_without_nan=np.where(nan_mask_2020, -100, _2020_float)\n",
        "\n",
        "parameters_without_nan=[]\n",
        "for i in [0,1,2,3,4,5]:\n",
        "  parameters_without_nan.append(np.where(nan_mask_parameters[i], -100, parameters_2023_float[i]))"
      ],
      "metadata": {
        "id": "YEBPyTOPWj7w"
      },
      "execution_count": null,
      "outputs": []
    },
    {
      "cell_type": "code",
      "source": [
        "builtup_2005_array=_2005_without_nan\n",
        "builtup_2011_array=_2011_without_nan\n",
        "builtup_2015_array=_2015_without_nan\n",
        "builtup_2020_array=_2020_without_nan\n",
        "\n",
        "parameters_2023_array=parameters_without_nan"
      ],
      "metadata": {
        "id": "UAvQPAw9ZUEw"
      },
      "execution_count": null,
      "outputs": []
    },
    {
      "cell_type": "code",
      "source": [
        "print(builtup_2005_array.shape)\n",
        "print(builtup_2011_array.shape)\n",
        "print(builtup_2015_array.shape)\n",
        "print(builtup_2020_array.shape)\n",
        "\n",
        "for i in [0,1,2,3,4,5]:\n",
        "  print(parameters_2023_array[i].shape)\n",
        "print(np.array(parameters_2023_array).shape)"
      ],
      "metadata": {
        "colab": {
          "base_uri": "https://localhost:8080/"
        },
        "id": "m-PSQzVqZo_G",
        "outputId": "085793f9-fc27-4fe9-cd67-4b25e2c4ccd3"
      },
      "execution_count": null,
      "outputs": [
        {
          "output_type": "stream",
          "name": "stdout",
          "text": [
            "(1283, 2719)\n",
            "(1283, 2719)\n",
            "(1283, 2719)\n",
            "(1283, 2719)\n",
            "(1283, 2719)\n",
            "(1283, 2719)\n",
            "(1283, 2719)\n",
            "(1283, 2719)\n",
            "(1283, 2719)\n",
            "(1283, 2719)\n",
            "(6, 1283, 2719)\n"
          ]
        }
      ]
    },
    {
      "cell_type": "markdown",
      "source": [
        "**Calculate the AHP weights**"
      ],
      "metadata": {
        "id": "hlyGCNRwafhH"
      }
    },
    {
      "cell_type": "code",
      "source": [
        "criteria_matrix = np.ones((6, 6))\n",
        "criteria_matrix[0, 0] = 1\n",
        "criteria_matrix[0, 1] = 7\n",
        "criteria_matrix[0, 2] = 3\n",
        "criteria_matrix[0, 3] = 7\n",
        "criteria_matrix[0, 4] = 6\n",
        "criteria_matrix[0, 5] = 6\n",
        "criteria_matrix[1, 0] = 1/7\n",
        "criteria_matrix[1, 1] = 1\n",
        "criteria_matrix[1, 2] = 1/5\n",
        "criteria_matrix[1, 3] = 2\n",
        "criteria_matrix[1, 4] = 1/2\n",
        "criteria_matrix[1, 5] = 1/2\n",
        "criteria_matrix[2, 0] = 1/3\n",
        "criteria_matrix[2, 1] = 5\n",
        "criteria_matrix[2, 2] = 1\n",
        "criteria_matrix[2, 3] = 6\n",
        "criteria_matrix[2, 4] = 3\n",
        "criteria_matrix[2, 5] = 3\n",
        "criteria_matrix[3, 0] = 1/7\n",
        "criteria_matrix[3, 1] = 1/2\n",
        "criteria_matrix[3, 2] = 1/6\n",
        "criteria_matrix[3, 3] = 1\n",
        "criteria_matrix[3, 4] = 1/2\n",
        "criteria_matrix[3, 5] = 1/2\n",
        "criteria_matrix[4, 0] = 1/6\n",
        "criteria_matrix[4, 1] = 2\n",
        "criteria_matrix[4, 2] = 1/3\n",
        "criteria_matrix[4, 3] = 2\n",
        "criteria_matrix[4, 4] = 1\n",
        "criteria_matrix[4, 5] = 2\n",
        "criteria_matrix[5, 0] = 1/6\n",
        "criteria_matrix[5, 1] = 2\n",
        "criteria_matrix[5, 2] = 1/3\n",
        "criteria_matrix[5, 3] = 2\n",
        "criteria_matrix[5, 4] = 1/2\n",
        "criteria_matrix[5, 5] = 1\n",
        "\n",
        "#Calculating the weights\n",
        "weights= calculate_ahp_weights(criteria_matrix)\n",
        "\n",
        "print(weights)"
      ],
      "metadata": {
        "colab": {
          "base_uri": "https://localhost:8080/"
        },
        "id": "Ul2NU0QKajya",
        "outputId": "20b72848-c3a4-4d6d-c5ad-2db1befff46d"
      },
      "execution_count": null,
      "outputs": [
        {
          "output_type": "stream",
          "name": "stdout",
          "text": [
            "[0.48103461+0.j 0.05658601+0.j 0.23956212+0.j 0.04366571+0.j\n",
            " 0.10001182+0.j 0.07913973+0.j]\n"
          ]
        }
      ]
    },
    {
      "cell_type": "code",
      "source": [
        "import numpy as np\n",
        "\n",
        "def calculate_consistency_index(matrix):\n",
        "    n = matrix.shape[0]\n",
        "    eigenvalues, _ = np.linalg.eig(matrix)\n",
        "    lambda_max = np.max(eigenvalues.real)\n",
        "    consistency_index = (lambda_max - n) / (n - 1)\n",
        "    return consistency_index\n",
        "\n",
        "def calculate_random_index(n):\n",
        "    random_index_table = [0, 0, 0.58, 0.90, 1.12, 1.24, 1.32, 1.41, 1.45, 1.49]\n",
        "    if n < 1 or n > 10:\n",
        "        raise ValueError(\"Number of criteria out of range (1-10)\")\n",
        "    return random_index_table[n - 1]\n",
        "\n",
        "def calculate_consistency_ratio(ci, ri):\n",
        "    consistency_ratio = ci / ri\n",
        "    return consistency_ratio\n",
        "\n",
        "ci = calculate_consistency_index(criteria_matrix)\n",
        "ri = calculate_random_index(criteria_matrix.shape[0])\n",
        "cr = calculate_consistency_ratio(ci, ri)\n",
        "\n",
        "print(f\"Consistency Index (CI): {ci}\")\n",
        "print(f\"Random Index (RI): {ri}\")\n",
        "print(f\"Consistency Ratio (CR): {cr}\")\n"
      ],
      "metadata": {
        "colab": {
          "base_uri": "https://localhost:8080/"
        },
        "id": "8_LkLM-vvEIz",
        "outputId": "b4df06fe-4b4e-44a9-d40c-547f6bf91542"
      },
      "execution_count": null,
      "outputs": [
        {
          "output_type": "stream",
          "name": "stdout",
          "text": [
            "Consistency Index (CI): 0.03749613775072511\n",
            "Random Index (RI): 1.24\n",
            "Consistency Ratio (CR): 0.0302388207667138\n"
          ]
        }
      ]
    },
    {
      "cell_type": "code",
      "source": [
        "print(type(weights))\n",
        "print(weights.shape)\n",
        "sum=0\n",
        "for i in [0,1,2,3,4,5]:\n",
        "  sum=sum+weights[i]\n",
        "\n",
        "print(sum)"
      ],
      "metadata": {
        "colab": {
          "base_uri": "https://localhost:8080/"
        },
        "id": "qi9FmxG_aocw",
        "outputId": "8bbb2a2e-4900-4e75-cf9c-9db0e0389061"
      },
      "execution_count": null,
      "outputs": [
        {
          "output_type": "stream",
          "name": "stdout",
          "text": [
            "<class 'numpy.ndarray'>\n",
            "(6,)\n",
            "(1+0j)\n"
          ]
        }
      ]
    },
    {
      "cell_type": "code",
      "source": [
        "weights=np.real(weights)\n",
        "\n",
        "print(weights)"
      ],
      "metadata": {
        "colab": {
          "base_uri": "https://localhost:8080/"
        },
        "id": "JcegjaoIaqhQ",
        "outputId": "b4ba85d3-c299-4680-cc89-0b8259af146a"
      },
      "execution_count": null,
      "outputs": [
        {
          "output_type": "stream",
          "name": "stdout",
          "text": [
            "[0.48103461 0.05658601 0.23956212 0.04366571 0.10001182 0.07913973]\n"
          ]
        }
      ]
    },
    {
      "cell_type": "code",
      "source": [
        "parameters_2023_array = np.array(parameters_2023_array)\n",
        "parameters_2023_array.shape"
      ],
      "metadata": {
        "colab": {
          "base_uri": "https://localhost:8080/"
        },
        "id": "RwaeMPYSawo-",
        "outputId": "4f5e7952-a44f-4365-cbba-198704ba2839"
      },
      "execution_count": null,
      "outputs": [
        {
          "output_type": "execute_result",
          "data": {
            "text/plain": [
              "(6, 1283, 2719)"
            ]
          },
          "metadata": {},
          "execution_count": 13
        }
      ]
    },
    {
      "cell_type": "code",
      "source": [
        "builtup_2020_array[builtup_2020_array>=0.99]=1\n",
        "builtup_2020_array[builtup_2020_array<0.99]=0"
      ],
      "metadata": {
        "id": "I_XBPEReppjA"
      },
      "execution_count": null,
      "outputs": []
    },
    {
      "cell_type": "markdown",
      "source": [
        "**Training data**"
      ],
      "metadata": {
        "id": "7tMSscKebiiv"
      }
    },
    {
      "cell_type": "code",
      "source": [
        "# Train the model (predict 2011 from 2005)\n",
        "from sklearn.metrics import confusion_matrix\n",
        "initial_state = builtup_2005_array\n",
        "for i in range(1, 7):\n",
        "    predicted_state_2011_05 = ca_markov_model(initial_state,parameters_2023_array,weights)\n",
        "    initial_state=predicted_state_2011_05\n",
        "\n",
        "a = confusion_matrix(builtup_2011_array.flatten(),predicted_state_2011_05.flatten())\n",
        "print(f\"Confusion Matrix: \\n {a}\")\n",
        "print(f\"Validation Accuracy: {((a[1][1]+a[2][2])/(a[1][1]+a[2][2]+a[2][1]+a[1][2]))*100}\")"
      ],
      "metadata": {
        "colab": {
          "base_uri": "https://localhost:8080/"
        },
        "id": "klL60fmwax7a",
        "outputId": "772e1483-5940-478e-829a-a9e9d17eb24e"
      },
      "execution_count": null,
      "outputs": [
        {
          "output_type": "stream",
          "name": "stdout",
          "text": [
            "Confusion Matrix: \n",
            " [[      0 1549209       0]\n",
            " [      0 1547571  137592]\n",
            " [      0   27872  226233]]\n",
            "Validation Accuracy: 91.46770843431645\n"
          ]
        }
      ]
    },
    {
      "cell_type": "code",
      "source": [
        "import numpy as np\n",
        "from osgeo import gdal\n",
        "\n",
        "# Load the input image\n",
        "input_image = gdal.Open(\"/content/drive/MyDrive/PS-1 Urban/All new files/New Builtup/05_06_builtup.tif\")\n",
        "input_array = input_image.ReadAsArray()\n",
        "\n",
        "# Create a new georeferenced output image based on the input image\n",
        "driver = gdal.GetDriverByName(\"GTiff\")\n",
        "output_image = driver.Create(\"/content/drive/MyDrive/PS-1 Urban/CA_Markov_Predictions/2011_pred_from_2005_2.tif\", input_image.RasterXSize, input_image.RasterYSize, 1, gdal.GDT_Float32)\n",
        "output_image.SetGeoTransform(input_image.GetGeoTransform())\n",
        "output_image.SetProjection(input_image.GetProjection())\n",
        "\n",
        "# Write the predicted state to the output image\n",
        "output_band = output_image.GetRasterBand(1)\n",
        "output_band.WriteArray(predicted_state_2011_05)\n",
        "output_band.FlushCache()\n",
        "\n",
        "# Close the output image\n",
        "output_image = None"
      ],
      "metadata": {
        "id": "rESPNlB8bt_f"
      },
      "execution_count": null,
      "outputs": []
    },
    {
      "cell_type": "code",
      "source": [
        "# Train the model (predict 2015 from 2005)\n",
        "from sklearn.metrics import confusion_matrix\n",
        "initial_state = builtup_2005_array\n",
        "for i in range(1, 11):\n",
        "    predicted_state_2015_05 = ca_markov_model(initial_state,parameters_2023_array,weights)\n",
        "    initial_state=predicted_state_2015_05\n",
        "\n",
        "a = confusion_matrix(builtup_2015_array.flatten(),predicted_state_2015_05.flatten())\n",
        "print(f\"Confusion Matrix: \\n {a}\")\n",
        "print(f\"Validation Accuracy: {((a[1][1]+a[2][2])/(a[1][1]+a[2][2]+a[2][1]+a[1][2]))*100}\")"
      ],
      "metadata": {
        "colab": {
          "base_uri": "https://localhost:8080/"
        },
        "id": "Tqk5JGSIcwh4",
        "outputId": "36f7d158-f8c2-4919-e808-e0187c664936"
      },
      "execution_count": null,
      "outputs": [
        {
          "output_type": "stream",
          "name": "stdout",
          "text": [
            "Confusion Matrix: \n",
            " [[      0 1549209       0]\n",
            " [      0 1487425  165937]\n",
            " [      0   39850  246056]]\n",
            "Validation Accuracy: 89.38841872294083\n"
          ]
        }
      ]
    },
    {
      "cell_type": "code",
      "source": [
        "import numpy as np\n",
        "from osgeo import gdal\n",
        "\n",
        "# Load the input image\n",
        "input_image = gdal.Open(\"/content/drive/MyDrive/PS-1 Urban/All new files/New Builtup/05_06_builtup.tif\")\n",
        "input_array = input_image.ReadAsArray()\n",
        "\n",
        "# Create a new georeferenced output image based on the input image\n",
        "driver = gdal.GetDriverByName(\"GTiff\")\n",
        "output_image = driver.Create(\"/content/drive/MyDrive/PS-1 Urban/CA_Markov_Predictions/2015_pred_from_2005_2.tif\", input_image.RasterXSize, input_image.RasterYSize, 1, gdal.GDT_Float32)\n",
        "output_image.SetGeoTransform(input_image.GetGeoTransform())\n",
        "output_image.SetProjection(input_image.GetProjection())\n",
        "\n",
        "# Write the predicted state to the output image\n",
        "output_band = output_image.GetRasterBand(1)\n",
        "output_band.WriteArray(predicted_state_2015_05)\n",
        "output_band.FlushCache()\n",
        "\n",
        "# Close the output image\n",
        "output_image = None"
      ],
      "metadata": {
        "id": "V9K19MCndBKv"
      },
      "execution_count": null,
      "outputs": []
    },
    {
      "cell_type": "code",
      "source": [
        "# Train the model (predict 2020 from 2005)\n",
        "from sklearn.metrics import confusion_matrix\n",
        "initial_state = builtup_2005_array\n",
        "for i in range(1, 16):\n",
        "    predicted_state_2020_05 = ca_markov_model(initial_state,parameters_2023_array,weights)\n",
        "    initial_state=predicted_state_2020_05\n",
        "\n",
        "a = confusion_matrix(builtup_2020_array.flatten(),predicted_state_2020_05.flatten())\n",
        "print(f\"Confusion Matrix: \\n {a}\")\n",
        "print(f\"Validation Accuracy: {((a[1][1]+a[0][0])/(a[1][1]+a[0][0]+a[0][1]+a[1][0]))*100}\")"
      ],
      "metadata": {
        "colab": {
          "base_uri": "https://localhost:8080/"
        },
        "id": "p84B1fL4hI84",
        "outputId": "682a1fbf-12eb-4f12-88f6-d4e4d2cff04d"
      },
      "execution_count": null,
      "outputs": [
        {
          "output_type": "stream",
          "name": "stdout",
          "text": [
            "Confusion Matrix: \n",
            " [[2997642  314662]\n",
            " [  27367  148806]]\n",
            "Validation Accuracy: 90.19546352176036\n"
          ]
        }
      ]
    },
    {
      "cell_type": "code",
      "source": [
        "import numpy as np\n",
        "from osgeo import gdal\n",
        "\n",
        "# Load the input image\n",
        "input_image = gdal.Open(\"/content/drive/MyDrive/PS-1 Urban/All new files/New Builtup/05_06_builtup.tif\")\n",
        "input_array = input_image.ReadAsArray()\n",
        "\n",
        "# Create a new georeferenced output image based on the input image\n",
        "driver = gdal.GetDriverByName(\"GTiff\")\n",
        "output_image = driver.Create(\"/content/drive/MyDrive/PS-1 Urban/CA_Markov_Predictions/2020_pred_from_2005_2.tif\", input_image.RasterXSize, input_image.RasterYSize, 1, gdal.GDT_Float32)\n",
        "output_image.SetGeoTransform(input_image.GetGeoTransform())\n",
        "output_image.SetProjection(input_image.GetProjection())\n",
        "\n",
        "# Write the predicted state to the output image\n",
        "output_band = output_image.GetRasterBand(1)\n",
        "output_band.WriteArray(predicted_state_2020_05)\n",
        "output_band.FlushCache()\n",
        "\n",
        "# Close the output image\n",
        "output_image = None"
      ],
      "metadata": {
        "id": "4FNn-XvQhl0S"
      },
      "execution_count": null,
      "outputs": []
    },
    {
      "cell_type": "code",
      "source": [
        "# Train the model (predict 2015 from 2011)\n",
        "from sklearn.metrics import confusion_matrix\n",
        "initial_state = builtup_2011_array\n",
        "for i in range(1, 5):\n",
        "    predicted_state_2015_11 = ca_markov_model(initial_state,parameters_2023_array,weights)\n",
        "    initial_state=predicted_state_2015_11\n",
        "\n",
        "a = confusion_matrix(builtup_2015_array.flatten(),predicted_state_2015_11.flatten())\n",
        "print(f\"Confusion Matrix: \\n {a}\")\n",
        "print(f\"Validation Accuracy: {((a[1][1]+a[2][2])/(a[1][1]+a[2][2]+a[2][1]+a[1][2]))*100}\")"
      ],
      "metadata": {
        "colab": {
          "base_uri": "https://localhost:8080/"
        },
        "id": "MFOLAWmgcSjB",
        "outputId": "8446c4a9-aea9-492f-c92a-933fc81da383"
      },
      "execution_count": null,
      "outputs": [
        {
          "output_type": "stream",
          "name": "stdout",
          "text": [
            "Confusion Matrix: \n",
            " [[      0 1549209       0]\n",
            " [      0 1546757  106605]\n",
            " [      0   30730  255176]]\n",
            "Validation Accuracy: 92.91820418838448\n"
          ]
        }
      ]
    },
    {
      "cell_type": "code",
      "source": [
        "import numpy as np\n",
        "from osgeo import gdal\n",
        "\n",
        "# Load the input image\n",
        "input_image = gdal.Open(\"/content/drive/MyDrive/PS-1 Urban/All new files/New Builtup/05_06_builtup.tif\")\n",
        "input_array = input_image.ReadAsArray()\n",
        "\n",
        "# Create a new georeferenced output image based on the input image\n",
        "driver = gdal.GetDriverByName(\"GTiff\")\n",
        "output_image = driver.Create(\"/content/drive/MyDrive/PS-1 Urban/CA_Markov_Predictions/2015_pred_from_2011_2.tif\", input_image.RasterXSize, input_image.RasterYSize, 1, gdal.GDT_Float32)\n",
        "output_image.SetGeoTransform(input_image.GetGeoTransform())\n",
        "output_image.SetProjection(input_image.GetProjection())\n",
        "\n",
        "# Write the predicted state to the output image\n",
        "output_band = output_image.GetRasterBand(1)\n",
        "output_band.WriteArray(predicted_state_2015_11)\n",
        "output_band.FlushCache()\n",
        "\n",
        "# Close the output image\n",
        "output_image = None"
      ],
      "metadata": {
        "id": "tuYLbPPHckWY"
      },
      "execution_count": null,
      "outputs": []
    },
    {
      "cell_type": "code",
      "source": [
        "# Train the model (predict 2020 from 2011)\n",
        "from sklearn.metrics import confusion_matrix\n",
        "initial_state = builtup_2011_array\n",
        "for i in range(1, 10):\n",
        "    predicted_state_2020_11 = ca_markov_model(initial_state,parameters_2023_array,weights)\n",
        "    initial_state=predicted_state_2020_11\n",
        "\n",
        "a = confusion_matrix(builtup_2020_array.flatten(),predicted_state_2020_11.flatten())\n",
        "print(f\"Confusion Matrix: \\n {a}\")\n",
        "print(f\"Validation Accuracy: {((a[1][1]+a[0][0])/(a[1][1]+a[0][0]+a[0][1]+a[1][0]))*100}\")"
      ],
      "metadata": {
        "colab": {
          "base_uri": "https://localhost:8080/"
        },
        "id": "txtEgI7HiDm-",
        "outputId": "24881d13-85e6-432b-b966-2381f6dd1827"
      },
      "execution_count": null,
      "outputs": [
        {
          "output_type": "stream",
          "name": "stdout",
          "text": [
            "Confusion Matrix: \n",
            " [[3006538  305766]\n",
            " [  22453  153720]]\n",
            "Validation Accuracy: 90.59133828315336\n"
          ]
        }
      ]
    },
    {
      "cell_type": "code",
      "source": [
        "import numpy as np\n",
        "from osgeo import gdal\n",
        "\n",
        "# Load the input image\n",
        "input_image = gdal.Open(\"/content/drive/MyDrive/PS-1 Urban/All new files/New Builtup/05_06_builtup.tif\")\n",
        "input_array = input_image.ReadAsArray()\n",
        "\n",
        "# Create a new georeferenced output image based on the input image\n",
        "driver = gdal.GetDriverByName(\"GTiff\")\n",
        "output_image = driver.Create(\"/content/drive/MyDrive/PS-1 Urban/CA_Markov_Predictions/2020_pred_from_2011_2.tif\", input_image.RasterXSize, input_image.RasterYSize, 1, gdal.GDT_Float32)\n",
        "output_image.SetGeoTransform(input_image.GetGeoTransform())\n",
        "output_image.SetProjection(input_image.GetProjection())\n",
        "\n",
        "# Write the predicted state to the output image\n",
        "output_band = output_image.GetRasterBand(1)\n",
        "output_band.WriteArray(predicted_state_2020_11)\n",
        "output_band.FlushCache()\n",
        "\n",
        "# Close the output image\n",
        "output_image = None"
      ],
      "metadata": {
        "id": "M3nAnBJoiOMf"
      },
      "execution_count": null,
      "outputs": []
    },
    {
      "cell_type": "code",
      "source": [
        "# Train the model (predict 2020 from 2015)\n",
        "from sklearn.metrics import confusion_matrix\n",
        "initial_state = builtup_2015_array\n",
        "for i in range(1, 6):\n",
        "    predicted_state_2020_15 = ca_markov_model(initial_state,parameters_2023_array,weights)\n",
        "    initial_state=predicted_state_2020_15\n",
        "\n",
        "a = confusion_matrix(builtup_2020_array.flatten(),predicted_state_2020_15.flatten())\n",
        "print(f\"Confusion Matrix: \\n {a}\")\n",
        "print(f\"Validation Accuracy: {((a[1][1]+a[0][0])/(a[1][1]+a[0][0]+a[0][1]+a[1][0]))*100}\")"
      ],
      "metadata": {
        "colab": {
          "base_uri": "https://localhost:8080/"
        },
        "id": "yf2wBczKiaGn",
        "outputId": "e57f28e5-cc95-4a3a-a953-0df5d7248725"
      },
      "execution_count": null,
      "outputs": [
        {
          "output_type": "stream",
          "name": "stdout",
          "text": [
            "Confusion Matrix: \n",
            " [[3051673  260631]\n",
            " [  22286  153887]]\n",
            "Validation Accuracy: 91.88995656270632\n"
          ]
        }
      ]
    },
    {
      "cell_type": "code",
      "source": [
        "import numpy as np\n",
        "from osgeo import gdal\n",
        "\n",
        "# Load the input image\n",
        "input_image = gdal.Open(\"/content/drive/MyDrive/PS-1 Urban/All new files/New Builtup/05_06_builtup.tif\")\n",
        "input_array = input_image.ReadAsArray()\n",
        "\n",
        "# Create a new georeferenced output image based on the input image\n",
        "driver = gdal.GetDriverByName(\"GTiff\")\n",
        "output_image = driver.Create(\"/content/drive/MyDrive/PS-1 Urban/CA_Markov_Predictions/2020_pred_from_2015_2.tif\", input_image.RasterXSize, input_image.RasterYSize, 1, gdal.GDT_Float32)\n",
        "output_image.SetGeoTransform(input_image.GetGeoTransform())\n",
        "output_image.SetProjection(input_image.GetProjection())\n",
        "\n",
        "# Write the predicted state to the output image\n",
        "output_band = output_image.GetRasterBand(1)\n",
        "output_band.WriteArray(predicted_state_2020_11)\n",
        "output_band.FlushCache()\n",
        "\n",
        "# Close the output image\n",
        "output_image = None"
      ],
      "metadata": {
        "id": "eoW0psOzihbh"
      },
      "execution_count": null,
      "outputs": []
    },
    {
      "cell_type": "markdown",
      "source": [
        "**Predicting 2031**"
      ],
      "metadata": {
        "id": "iy5OoQOJlmYI"
      }
    },
    {
      "cell_type": "code",
      "source": [
        "# Predict 2031 urbanization using 2015 data\n",
        "\n",
        "initial_state_2015= builtup_2015_array\n",
        "for i in range(1,17):\n",
        "  predicted_state_2031_15=ca_markov_model(initial_state_2015,parameters_2023_array,weights)\n",
        "  initial_state_2015=predicted_state_2031_15"
      ],
      "metadata": {
        "id": "pBaOOCMTll-g"
      },
      "execution_count": null,
      "outputs": []
    },
    {
      "cell_type": "code",
      "source": [
        "import numpy as np\n",
        "from osgeo import gdal\n",
        "\n",
        "# Load the input image\n",
        "input_image = gdal.Open(\"/content/drive/MyDrive/PS-1 Urban/All new files/New Builtup/05_06_builtup.tif\")\n",
        "input_array = input_image.ReadAsArray()\n",
        "\n",
        "# Create a new georeferenced output image based on the input image\n",
        "driver = gdal.GetDriverByName(\"GTiff\")\n",
        "output_image = driver.Create(\"/content/drive/MyDrive/PS-1 Urban/CA_Markov_Predictions/2031_pred_from_2015_2.tif\", input_image.RasterXSize, input_image.RasterYSize, 1, gdal.GDT_Float32)\n",
        "output_image.SetGeoTransform(input_image.GetGeoTransform())\n",
        "output_image.SetProjection(input_image.GetProjection())\n",
        "\n",
        "# Write the predicted state to the output image\n",
        "output_band = output_image.GetRasterBand(1)\n",
        "output_band.WriteArray(predicted_state_2031_15)\n",
        "output_band.FlushCache()\n",
        "\n",
        "# Close the output image\n",
        "output_image = None"
      ],
      "metadata": {
        "id": "sHI2_xxCl41Z"
      },
      "execution_count": null,
      "outputs": []
    },
    {
      "cell_type": "code",
      "source": [
        "# Predict 2031 urbanization using 2020 data\n",
        "\n",
        "initial_state_2020= builtup_2020_array\n",
        "for i in range(1,12):\n",
        "  predicted_state_2031_20=ca_markov_model(initial_state_2020,parameters_2023_array,weights)\n",
        "  initial_state_2020=predicted_state_2031_20"
      ],
      "metadata": {
        "id": "kMvjUxfKrTy6"
      },
      "execution_count": null,
      "outputs": []
    },
    {
      "cell_type": "code",
      "source": [
        "import numpy as np\n",
        "from osgeo import gdal\n",
        "\n",
        "# Load the input image\n",
        "input_image = gdal.Open(\"/content/drive/MyDrive/PS-1 Urban/All new files/New Builtup/05_06_builtup.tif\")\n",
        "input_array = input_image.ReadAsArray()\n",
        "\n",
        "# Create a new georeferenced output image based on the input image\n",
        "driver = gdal.GetDriverByName(\"GTiff\")\n",
        "output_image = driver.Create(\"/content/drive/MyDrive/PS-1 Urban/CA_Markov_Predictions/2031_pred_from_2020_2.tif\", input_image.RasterXSize, input_image.RasterYSize, 1, gdal.GDT_Float32)\n",
        "output_image.SetGeoTransform(input_image.GetGeoTransform())\n",
        "output_image.SetProjection(input_image.GetProjection())\n",
        "\n",
        "# Write the predicted state to the output image\n",
        "output_band = output_image.GetRasterBand(1)\n",
        "output_band.WriteArray(predicted_state_2031_20)\n",
        "output_band.FlushCache()\n",
        "\n",
        "# Close the output image\n",
        "output_image = None"
      ],
      "metadata": {
        "id": "nt5FUIFTreHI"
      },
      "execution_count": null,
      "outputs": []
    },
    {
      "cell_type": "markdown",
      "source": [
        "**Here you can see the maps of different iterations**\n",
        "\n",
        "[maps](https://drive.google.com/drive/folders/1Z59Fp41CzJxAHOC51hCt_mJanFhPUZFh?usp=drive_link)"
      ],
      "metadata": {
        "id": "3N0wI1SPJkKx"
      }
    },
    {
      "cell_type": "markdown",
      "source": [
        "** Here you can look into .tiff images also of the predictions **\n",
        "[CA MARKOV PREDICTIONS](https://drive.google.com/drive/folders/1-YFu8jbBrzx0lFNpzg78rb4eV1EsxI4u?usp=drive_link)"
      ],
      "metadata": {
        "id": "plfIZL90NX-p"
      }
    }
  ]
}